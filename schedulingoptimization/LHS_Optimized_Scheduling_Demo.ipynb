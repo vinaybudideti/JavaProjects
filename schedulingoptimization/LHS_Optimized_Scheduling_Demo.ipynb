{
  "cells": [
    {
      "cell_type": "markdown",
      "source": [
        "### Import Packages"
      ],
      "metadata": {
        "id": "ewug-OFxn7uh"
      },
      "id": "ewug-OFxn7uh"
    },
    {
      "cell_type": "code",
      "execution_count": 2,
      "id": "2e6ab8ec",
      "metadata": {
        "id": "2e6ab8ec",
        "outputId": "e7805403-4b9d-4099-acf0-294b4070e52a",
        "colab": {
          "base_uri": "https://localhost:8080/"
        }
      },
      "outputs": [
        {
          "output_type": "stream",
          "name": "stdout",
          "text": [
            "Requirement already satisfied: numpy in /usr/local/lib/python3.10/dist-packages (1.23.5)\n",
            "Collecting pulp\n",
            "  Downloading PuLP-2.7.0-py3-none-any.whl (14.3 MB)\n",
            "\u001b[2K     \u001b[90m━━━━━━━━━━━━━━━━━━━━━━━━━━━━━━━━━━━━━━━━\u001b[0m \u001b[32m14.3/14.3 MB\u001b[0m \u001b[31m39.1 MB/s\u001b[0m eta \u001b[36m0:00:00\u001b[0m\n",
            "\u001b[?25hInstalling collected packages: pulp\n",
            "Successfully installed pulp-2.7.0\n",
            "1.23.5\n",
            "2.7.0\n",
            "Python 3.10.12\n"
          ]
        }
      ],
      "source": [
        "# import the NumPy and PuLP libraries under the aliases np and pl respectively\n",
        "!pip install numpy\n",
        "!pip install pulp\n",
        "\n",
        "import numpy as np\n",
        "print(np.__version__) # get version\n",
        "import pulp as pl\n",
        "print(pl.__version__) # get version\n",
        "!python --version # get python version"
      ]
    },
    {
      "cell_type": "markdown",
      "id": "eae30287",
      "metadata": {
        "id": "eae30287"
      },
      "source": [
        "### Program Settings"
      ]
    },
    {
      "cell_type": "markdown",
      "source": [
        "\n",
        "Defining the Multi-Day Solve Method Components\n",
        "      \n",
        "        X: Decision variable matrix representing whether to schedule each visit type on each day.\n",
        "        D1: List of decision variables representing the number of appointments scheduled on each day.\n",
        "        D2: List of decision variables representing whether each day is scheduled.\n",
        "        D: List of decision variables representing the date on which each visit type is scheduled.\n",
        "        N_scheduled_d: Decision variable representing the total number of scheduled days.\n",
        "        Leading: Decision variable representing the leading time between appointments.\n",
        "        m: PuLP Linear Programming problem instance.\n"
      ],
      "metadata": {
        "id": "fn_DiipsBLRf"
      },
      "id": "fn_DiipsBLRf"
    },
    {
      "cell_type": "markdown",
      "source": [
        "Defining the Single Day Solve Method Components\n",
        "\n",
        "        spread_t: Decision variable representing the spread time of all appointments.\n",
        "        end_t: Decision variable representing the latest end time of all appointments.\n",
        "        start_t: Decision variable representing the earliest start time of all appointments.\n",
        "        total_travel_t: Decision variable representing the total travel time between appointments.\n",
        "        travel_ts: List of decision variables representing the travel time between resources.\n",
        "        preference_diff: Decision variable representing the difference from the preferred time slots.\n",
        "        X: Decision variable matrix representing whether to schedule each resource in each time window.\n",
        "        X2: List of decision variables representing whether each resource is scheduled.\n",
        "        Y: Decision variable matrix representing the visit type order constraints.\n",
        "        m: PuLP Linear Programming problem instance."
      ],
      "metadata": {
        "id": "D0epmjdHBlG5"
      },
      "id": "D0epmjdHBlG5"
    },
    {
      "cell_type": "code",
      "execution_count": 3,
      "id": "13f56624",
      "metadata": {
        "id": "13f56624"
      },
      "outputs": [],
      "source": [
        "class Scheduler():\n",
        "    # set number of days to be considered to schedule\n",
        "    N_DAYS = 14\n",
        "    T_unit = 5\n",
        "    M = 10**6\n",
        "\n",
        "    # Initialize the Scheduler class with the parameters defined below\n",
        "    def __init__(self,N_VT,N_DEP,VT_DEP,JOB_LEN,DIS,T_VT,ST_DEP,ED_DEP,Cap,intv_const = None):\n",
        "        '''\n",
        "        parameters:\n",
        "            N_VT: number of visit types\n",
        "            N_DEP: number of departments\n",
        "            VT_DEP: a dictionary stored the visit types and corresponding departments\n",
        "            JOB_LEN: job length for each visit type (minutes)\n",
        "            DIS: matrix stores the distances between each 2 departments (minutes), size=(N_VT,N_VT)\n",
        "            T_VT: length of appointment window for each visit type (minutes)\n",
        "            ST_DEP: start of business hours for each department (24h)\n",
        "            ED_DEP: end of business hours for each department (24h)\n",
        "            Cap: capacity of each resource on each day, {vt1:{dep1:{[[...],[...],...]}},vt2:...)\n",
        "        '''\n",
        "        # Constants\n",
        "        self.N_VT = N_VT\n",
        "        self.N_DEP = N_DEP\n",
        "        self.VT_DEP = VT_DEP\n",
        "\n",
        "        # Map visit type id & department id to resource id; We will regard one visit type at one department as one resource\n",
        "        self.rsrc_map = dict()\n",
        "        idx = 0\n",
        "        for vt in VT_DEP:\n",
        "            for dep in VT_DEP[vt]:\n",
        "                self.rsrc_map[idx] = (vt,dep)\n",
        "                idx += 1\n",
        "        self.N_RSRC = idx\n",
        "\n",
        "        self.JOB_LEN = JOB_LEN/T_unit\n",
        "        self.DIS = DIS/T_unit # Create distance matrix in the scaled unit (minutes) [[j/T_unit for j in DIS] for i in DIS]\n",
        "        self.T_VT = [t/T_unit for t in T_VT] # Appointment window length for each visit type\n",
        "\n",
        "        # Convert start and end of business hours to the scaled unit\n",
        "        min_ST_DEP = min(ST_DEP*60)/T_unit\n",
        "        self.ST_DEP = [t*60/T_unit-min_ST_DEP for t in ST_DEP]\n",
        "        self.ED_DEP = [t*60/T_unit-min_ST_DEP for t in ED_DEP]\n",
        "\n",
        "        self.N_W_RSRC = []\n",
        "\n",
        "        # Calculate capacity for each resource in each department\n",
        "        self.Cap = [] #  Capacity of each resource on each day\n",
        "        for i in range(self.N_RSRC):\n",
        "            vti,depi = self.rsrc_map[i]\n",
        "            self.N_W_RSRC.append(int((self.ED_DEP[depi]-self.ST_DEP[depi])/self.T_VT[vti]))\n",
        "            self.Cap.append(np.array(Cap[vti][depi]))\n",
        "\n",
        "        self.intv_const = intv_const if intv_const is not None else np.zeros((self.N_VT,self.N_VT))\n",
        "\n",
        "    def agg_daily_Cap(self):\n",
        "        '''\n",
        "        aggregate capacity to daily basis\n",
        "        return:\n",
        "            (N_VT, N_DAYS)\n",
        "        '''\n",
        "        self.Cap_agg = np.array([i.sum(axis=1) for i in self.Cap])\n",
        "\n",
        "    def single_day_Cap(self,d):\n",
        "        return [i[d] for i in self.Cap]\n",
        "\n",
        "    def _input(self,Req,\n",
        "               order_pref = None,\n",
        "               date_pref = None, ts_pref = None,\n",
        "               unavail_date = None, unavail_ts = None,\n",
        "               obj_pref = 'spread_time',\n",
        "               same_date = None,\n",
        "               pre_win = None):\n",
        "        '''\n",
        "        input from the patient/scheduler\n",
        "        parameters:\n",
        "            Req: number of appointments for each visit type like {0:1,1:1,2:0}, size=N_VT\n",
        "            order_pref: matrix that defines order constraint if any, size=(N_VT,N_VT)\n",
        "                        if order_pref[i,j]=1, visit type i should be scheduled later than visit type j\n",
        "            date_pref: array of preferred dates [0,3,...]\n",
        "            ts_pref: array of preferred time slots [1,3,...]\n",
        "            unavail_date: array of unavailable dates [1,2,...]\n",
        "            unavail_ts: array of unavailable time slots [1,3,...]\n",
        "            obj_pref: 'spread_time', 'end_time'\n",
        "            same_date: matrix that defines whether 2 visit type need to be scheduled on the same day\n",
        "            pre_win: array of number of days required to scheduled before the appointment\n",
        "            intv_const: matrix that stores required interval between 2 visit types, size=(N_VT,N_VT)\n",
        "        '''\n",
        "        self.Req = Req\n",
        "        self.order_pref = order_pref\n",
        "        self.date_pref = date_pref\n",
        "        self.ts_pref = ts_pref\n",
        "        self.unavail_date = unavail_date\n",
        "        self.unavail_ts = unavail_ts\n",
        "        self.obj_pref = obj_pref\n",
        "        self.same_date = same_date\n",
        "        self.pre_win = pre_win\n",
        "\n",
        "    def visualized_daily_schedule(self, schedule):\n",
        "        import matplotlib.pyplot as plt\n",
        "        import seaborn as sns\n",
        "\n",
        "        plt.figure(figsize=(self.N_DAYS,self.N_VT))\n",
        "        sns.heatmap(schedule,cmap='Blues',linewidths=1,square=True)\n",
        "        plt.xticks(range(self.N_DAYS))\n",
        "        plt.rcParams['xtick.top'] = plt.rcParams['xtick.labeltop'] = True\n",
        "        plt.yticks(range(self.N_VT))\n",
        "        plt.show()\n",
        "\n",
        "    def visualized_single_day_schedule(self, schedule):\n",
        "        import matplotlib.pyplot as plt\n",
        "        import seaborn as sns\n",
        "\n",
        "        aligned_sched = []\n",
        "        max_w = int(max(self.ED_DEP))\n",
        "        for i in range(self.N_RSRC):\n",
        "            vt,dep = self.rsrc_map[i]\n",
        "            aligned_sched.append(np.zeros(max_w))\n",
        "            st_idx = int(self.ST_DEP[vt])\n",
        "            ed_idx = int(self.ED_DEP[vt])\n",
        "            aligned_sched[i][st_idx:ed_idx+1] = np.repeat(schedule[i],self.T_VT[vt])[:ed_idx-st_idx]\n",
        "\n",
        "        plt.figure(figsize=(max_w,self.N_VT))\n",
        "        sns.heatmap(aligned_sched,cmap='Blues',linewidths=1,square=True)\n",
        "        plt.xticks(range(max_w))\n",
        "        plt.rcParams['xtick.top'] = plt.rcParams['xtick.labeltop'] = True\n",
        "        plt.yticks(range(self.N_VT))\n",
        "        plt.show()\n",
        "\n",
        "# Define the Multi-day and Single-day methods of solving the schedule request\n",
        "# The `LP_multi_day` solve method finds multi-day solutions to the schedule request. The `LP_same_day` solve method finds single day solutions when the multi-day solution does not fully meet the scheduling requirements or preferences.\n",
        "# Both types of solutions are considered in order to get the optimal result based on our set objective functions and constraints. The `solve` method in the ‘Scheduler’ class stores the solutions in the `res` list as a dictionary containing the optimized schedule, LP model, and other relevant information.\n",
        "# In short, after obtaining the multi-day solution, the `solve` method then checks if there are specific days when a single-day solution might improve the overall schedule, and if so, appends those to the `res` list.\n",
        "\n",
        "    def LP_multi_day(self):\n",
        "        \"\"\"\n",
        "        \"\"\"\n",
        "\n",
        "        ## Create the PuLP LP\n",
        "        m = pl.LpProblem('multiple_day_scheduling_optimization', pl.LpMinimize)\n",
        "\n",
        "\n",
        "        ## Create the decision variables\n",
        "\n",
        "        # Appointments\n",
        "        X = [] # Whether to schedule for each visit type each day\n",
        "        for vt in range(self.N_VT):\n",
        "            X.append([])\n",
        "            for d in range(self.N_DAYS):\n",
        "                X[vt].append(pl.LpVariable(f'X_{vt}_{d}',cat='Binary'))\n",
        "        X = np.array(X)\n",
        "\n",
        "        # For objective function\n",
        "        # Scheduled days\n",
        "        N_scheduled_d = pl.LpVariable(f'N_scheduled_d',cat='Integer')\n",
        "        # Number of appointments scheduled to day d\n",
        "        D1 = []\n",
        "        # Whether day d is scehduled\n",
        "        D2 = []\n",
        "        for d in range(self.N_DAYS):\n",
        "            D1.append(pl.LpVariable(f'D1_{d}',cat='Integer',lowBound=0))\n",
        "            D2.append(pl.LpVariable(f'D2_{d}',cat='Binary'))\n",
        "\n",
        "            m += (D1[d]==pl.lpSum(X[:,d]), f'D1_{d}_constraint')\n",
        "            m += (D1[d]<=D2[d]+D2[d]*self.M, f'D2_{d}_constraint1')\n",
        "            m += (D1[d]>=D2[d]-D2[d]*self.M, f'D2_{d}_constraint2')\n",
        "        m += (N_scheduled_d==pl.lpSum(D2), f'N_scheduled_d_constraint')\n",
        "\n",
        "        # Leading time\n",
        "        Leading = pl.LpVariable(f'Leading_days',cat='Integer',lowBound=0)\n",
        "        # The date visit type vt is scheduled to\n",
        "        D = []\n",
        "        for vt in range(self.N_VT):\n",
        "            D.append(pl.LpVariable(f'D_{vt}',cat='Integer',lowBound=0))\n",
        "            m += (D[vt]==pl.lpSum([X[vt,d]*d for d in range(self.N_DAYS)]), f'D_{vt}_constraint')\n",
        "        m += (Leading==pl.lpSum(D)/self.N_VT, f'Leading_time_constraint')\n",
        "\n",
        "\n",
        "        ## Create the constraints\n",
        "\n",
        "        # Capacity balance & resource & demand constraints\n",
        "        scheduled_caps = 0\n",
        "        for vt in range(self.N_VT):\n",
        "            for d in range(self.N_DAYS):\n",
        "                scheduled_caps += self.Cap_agg[vt,d]*X[vt,d]\n",
        "                m += (X[vt,d]<=self.Cap_agg[vt,d])\n",
        "                m += (pl.lpSum(X[vt])==self.Req[vt])\n",
        "\n",
        "        # Order constraint\n",
        "        if self.order_pref is not None:\n",
        "            for i in range(self.N_VT):\n",
        "                for j in range(self.N_VT):\n",
        "                    if j>i and self.order_pref[i,j]!=-1:\n",
        "                        m += (D[i]<=D[j]+self.order_pref[i,j]*self.M, f'order_{i}_{j}_constraint1')\n",
        "                        m += (D[i]>=D[j]-(1-self.order_pref[i,j])*self.M, f'order_{i}_{j}_constraint2')\n",
        "\n",
        "        # Same day constraint\n",
        "        if self.same_date is not None:\n",
        "            for i in range(self.N_VT):\n",
        "                for j in range(self.N_VT):\n",
        "                    if j>i and self.same_date[i,j]==1:\n",
        "                        m += (D[i]==D[j], f'same_day_{i}_{j}_coonstraint')\n",
        "\n",
        "\n",
        "        ## Objective function favoring minimized spread time then minimized lead time and scheduled capacity\n",
        "        m += 0.98*N_scheduled_d + 0.019*Leading - 0.001*scheduled_caps\n",
        "\n",
        "        return X,D1,D2,D,N_scheduled_d,Leading,m\n",
        "\n",
        "\n",
        "    def LP_same_day(self,day_Cap,Req):\n",
        "\n",
        "        ## Create the PuLP linear program\n",
        "        m = pl.LpProblem('scheduling_optimization', pl.LpMinimize)\n",
        "\n",
        "\n",
        "        ## Create the decision variables\n",
        "\n",
        "        # appointments\n",
        "        X = [] # whether schedule for each resource each window\n",
        "        for i in range(self.N_RSRC):\n",
        "            X.append([])\n",
        "            for w in range(self.N_W_RSRC[i]):\n",
        "                X[i].append(pl.LpVariable(f'X_{i}_{w}',cat='Binary'))\n",
        "            X[i] = np.array(X[i])\n",
        "\n",
        "        # For objective function\n",
        "        # Spread time of all appointments\n",
        "        spread_t = pl.LpVariable('spread_t',lowBound=0)\n",
        "        # Travel time\n",
        "        total_travel_t = pl.LpVariable('travel_time',lowBound=0)\n",
        "        # Difference from the preferred time slots, if no preference, should be 0\n",
        "        preference_diff = pl.LpVariable('preference_diff',lowBound=0)\n",
        "\n",
        "        # Definition of objective variables\n",
        "        # Start time: earlier than any start time, if no appointments then =N\n",
        "        # End time: later than latest start time + job length\n",
        "        start_t = pl.LpVariable('start_t',lowBound=0)\n",
        "        end_t = pl.LpVariable('end_t',lowBound=0)\n",
        "        m += (spread_t==end_t-start_t, f'spread_time_constraints')\n",
        "        for idx in range(self.N_RSRC):\n",
        "            for k in range(self.N_W_RSRC[idx]):\n",
        "                vt = self.rsrc_map[idx][0]\n",
        "                dep = self.rsrc_map[idx][1]\n",
        "                T = self.T_VT[vt]\n",
        "                start_bt = self.ST_DEP[dep]\n",
        "                m += (start_t<=X[idx][k]*k*T+start_bt+(1-pl.lpSum(X[idx][k]))*self.M, f'start_time_{idx}_{k}_constraint')\n",
        "                m += (end_t>=X[idx][k]*k*T+X[idx][k]*self.JOB_LEN[vt]+start_bt, f'end_time_{idx}_{k}_constraint')\n",
        "\n",
        "        # Travel time\n",
        "        travel_ts = []\n",
        "        Y = []\n",
        "        X2 = [pl.LpVariable(f'X2_{idxi}',cat='Binary') for idxi in range(self.N_RSRC)]\n",
        "        for vti in range(N_VT):\n",
        "            Y.append([])\n",
        "            for vtj in range(N_VT):\n",
        "                Y[vti].append(pl.LpVariable(f'Y_{vti}_{vtj}',cat='Binary'))\n",
        "        Y = np.array(Y)\n",
        "\n",
        "        m += (pl.lpSum(Y)==self.N_VT-1, f'Y__constraint')\n",
        "        for vt in range(N_VT):\n",
        "            m += (pl.lpSum(Y[vt,:])<=1, f'Y_{vt}_constraint1')\n",
        "            m += (pl.lpSum(Y[:,vt])<=1, f'Y_{vt}_constraint2')\n",
        "            m += (Y[vt,vt]==0, f'Y_{vt}_constraint3')\n",
        "            for vt_ in range(vt,N_VT):\n",
        "                m += (Y[vt,vt_]+Y[vt_,vt]<=1, f'Y_{vt}_{vt_}_constraint')\n",
        "\n",
        "        for idxi in range(self.N_RSRC):\n",
        "            travel_ts.append([])\n",
        "            m += (X2[idxi]==pl.lpSum(X[idxi]),f'X2_{idxi}_constriant')\n",
        "            for idxj in range(self.N_RSRC):\n",
        "                travel_ts[idxi].append(pl.LpVariable(f'travel_time_{idxi}_{idxj}',cat='Integer',lowBound=0))\n",
        "                vti,depi = self.rsrc_map[idxi]\n",
        "                vtj,depj = self.rsrc_map[idxj]\n",
        "                m += (travel_ts[idxi][idxj]>=Y[vti,vtj]*self.DIS[depi,depj]-(1-X2[idxi])*self.M-(1-X2[idxj])*self.M,f'travel_time_{idxi}_{idxj}_constraint')\n",
        "        m += (total_travel_t==pl.lpSum(travel_ts), f'total_travel_time_constraint')\n",
        "\n",
        "        # Preferred time slots constraint\n",
        "        if self.ts_pref is not None:\n",
        "            # Auxilary decision variables for absolute\n",
        "            u = []\n",
        "            v = []\n",
        "            uv_idx = 0\n",
        "            for idx in range(self.N_RSRC):\n",
        "                for w in range(self.N_W_RSRC[idx]):\n",
        "                    u.append(pl.LpVariable(f'u_{idx}',lowBound=0))\n",
        "                    v.append(pl.LpVariable(f'v_{idx}',lowBound=0))\n",
        "                    m += (self.ts_pref-pl.lpSum(X[idx]*range(self.N_W_RSRC[idx]))==u[idx]-v[idx], f'constraint_for_auxilary_decision_variables_uv{idx}')\n",
        "\n",
        "            u = np.array(u)\n",
        "            v = np.array(v)\n",
        "            m += (preference_diff==pl.lpSum([u,v]),'preference_difference_constraint')\n",
        "        else:\n",
        "            m += (preference_diff==0,'preference_difference_constraint')\n",
        "\n",
        "\n",
        "        ## Create the constraints\n",
        "\n",
        "        # Resource & demand constraints and capacity balance\n",
        "        scheduled_vt = {}\n",
        "        scheduled_caps = 0\n",
        "        for idx in range(self.N_RSRC):\n",
        "            for w in range(self.N_W_RSRC[idx]):\n",
        "                m += (X[idx][w]<=day_Cap[idx][w], f'resource_{idx}_window_{w}_resource_constraint')\n",
        "                scheduled_caps += day_Cap[idx][w]*X[idx][w]\n",
        "            vt = self.rsrc_map[idx][0]\n",
        "            if scheduled_vt.get(vt) is None:\n",
        "                scheduled_vt[vt] = X2[idx]\n",
        "            else:\n",
        "                scheduled_vt[vt] += X2[idx]\n",
        "        for vt in range(self.N_VT):\n",
        "            m += (scheduled_vt[vt]==Req[vt],f'visit_type_{vt}_demand_constraint')\n",
        "\n",
        "        # Time constraints\n",
        "        for idxi in range(self.N_RSRC):\n",
        "            for idxj in range(self.N_RSRC):\n",
        "                if idxi!=idxj:\n",
        "                    vti,depi = self.rsrc_map[idxi]\n",
        "                    vtj,depj = self.rsrc_map[idxj]\n",
        "                    m += (self.ST_DEP[depi]+pl.lpSum(X[idxi]*range(self.N_W_RSRC[idxi]))*self.T_VT[vti]+self.JOB_LEN[vti]+self.intv_const[vti,vtj]+self.DIS[depi,depj]\n",
        "                          <=self.ST_DEP[depj]+pl.lpSum(X[idxj]*range(self.N_W_RSRC[idxj]))*self.T_VT[vtj]+(1-Y[vti,vtj])*self.M+(1-X2[idxi])*self.M+(1-X2[idxj])*self.M, f'resource_{idxi}_resource_{idxj}_time_interval_constraint')\n",
        "\n",
        "        # Order constraints\n",
        "        if self.order_pref is not None:\n",
        "            for vti in range(self.N_VT):\n",
        "                for vtj in range(self.N_VT):\n",
        "                    if self.order_pref[vtj,vti]!=-1:\n",
        "                        m += (Y[vti,vtj]<=self.order_pref[vtj,vti])\n",
        "\n",
        "\n",
        "        ## Create the objective, which can be set to minimize spread time or end time and thus leading time\n",
        "        if self.obj_pref==\"spread_time\":\n",
        "            m += 0.01*(spread_t ) + 0.99*preference_diff - 0.05*scheduled_caps # + total_travel_t\n",
        "        elif self.obj_pref==\"end_time\":\n",
        "            m += 0.01*(end_t ) + 0.99*preference_diff - 0.05*scheduled_caps\n",
        "\n",
        "        return spread_t,end_t,start_t,total_travel_t,travel_ts,preference_diff,X,X2,Y,m\n",
        "\n",
        "# Define the solution/solve method which will return `res`, a list of dictionaries containing the schedules and optimization solutions\n",
        "    def solve(self,msg=0):\n",
        "        # Aggregate capacity to daily basis\n",
        "        self.agg_daily_Cap()\n",
        "        # Check if we can schedule appointments to the same day\n",
        "        Cap_agg_vt = (self.Cap_agg>0).sum(axis=0)\n",
        "        res = []\n",
        "\n",
        "        X,D1,D2,D,N_scheduled_d,Leading,m = self.LP_multi_day()\n",
        "\n",
        "        result = pl.PULP_CBC_CMD(msg=msg).solve(m)\n",
        "        if result==1:\n",
        "            days = {}\n",
        "            for vt in range(self.N_VT):\n",
        "                for d in range(self.N_DAYS):\n",
        "                    if X[vt,d].value()==1:\n",
        "                        if days.get(d):\n",
        "                            days[d][vt] = 1\n",
        "                        else:\n",
        "                            days[d] = {i:0 for i in range(N_VT)}\n",
        "                            days[d][vt] = 1\n",
        "            for d,req in days.items():\n",
        "                day_Cap = self.single_day_Cap(d)\n",
        "                spread_t,end_t,start_t,total_travel_t,travel_ts,preference_diff,X,X2,Y,m = self.LP_same_day(day_Cap,req)\n",
        "\n",
        "                result = pl.PULP_CBC_CMD(msg=msg).solve(m)\n",
        "                if result==1:\n",
        "                    schedule = [[j.value() for j in i] for i in X]\n",
        "                    res.append({'day':d,\n",
        "                                'schedule':schedule,\n",
        "                                'variables':{'spread_t':spread_t,\n",
        "                                           'end_t':end_t,\n",
        "                                           'start_t':start_t,\n",
        "                                           'total_travel_t':total_travel_t,\n",
        "                                           'travel_ts':travel_ts,\n",
        "                                           'preference_diff':preference_diff,\n",
        "                                           'X':X,\n",
        "                                           'X2':X2,\n",
        "                                           'Y':Y,},\n",
        "                                'program':m})\n",
        "\n",
        "\n",
        "        return res\n"
      ]
    },
    {
      "cell_type": "markdown",
      "source": [
        "### Demo"
      ],
      "metadata": {
        "id": "77tZGBxF7HPY"
      },
      "id": "77tZGBxF7HPY"
    },
    {
      "cell_type": "markdown",
      "source": [
        "Generate settings with sample visit types, job lengths, capacities, etc. across a 14 day period\n",
        "\n",
        "        VT: Number of visit types (integer).\n",
        "        DEP: Number of departments (integer).\n",
        "        VT_DEP: Dictionary mapping visit types to the applicable departments.\n",
        "        M_map: Dictionary mapping visit type id & department id to resource id.\n",
        "        Job: Array containing job lengths for different visit types (minutes).\n",
        "        Dis: Matrix representing travel time between each pair of departments (minutes).\n",
        "        Req: Array representing the number of requests for each visit type.\n",
        "        T_unit: Time window unit (minutes).\n",
        "        T_VT: List of appointment window lengths for different visit types (minutes).\n",
        "        N: List of the number of appointment windows for each visit type.\n",
        "        Cap_14d: Dictionary storing capacity of each department for each visit type and window unit."
      ],
      "metadata": {
        "id": "aul6OYT6Bz-O"
      },
      "id": "aul6OYT6Bz-O"
    },
    {
      "cell_type": "code",
      "execution_count": 4,
      "id": "58aee2bb",
      "metadata": {
        "id": "58aee2bb"
      },
      "outputs": [],
      "source": [
        "\n",
        "def generate_settings_14d(rs):\n",
        "    np.random.seed(rs) # Set a random seed for reproducibility\n",
        "    ## Define Resources\n",
        "    VT = 3 # Number of visit types\n",
        "    DEP = 3 # Number of departments\n",
        "    VT_DEP = {0:[0,1],1:[1,2],2:[2]} # The applicable departments for each visit type\n",
        "    M_map = dict() # Regard one visit type at one department as one resource,\n",
        "                   # Map visit type id & department id to resource id\n",
        "    idx = 0\n",
        "    for i in VT_DEP:\n",
        "        M_map[i] = dict()\n",
        "        for j in VT_DEP[i]:\n",
        "            M_map[i][j] = idx\n",
        "            idx += 1\n",
        "\n",
        "    ## Job length for different visit type\n",
        "    Job = np.array([5,10,15])\n",
        "\n",
        "    ## Travel time between each 2 departments\n",
        "    Dis = np.ones((DEP,DEP)) * 5\n",
        "    Dis[np.diag_indices(DEP)]=0 # np.diag_indices_from(Dis)\n",
        "\n",
        "    ## Requests - number of requests for each visit type\n",
        "    Req = np.ones(VT)\n",
        "\n",
        "    \"\"\"\n",
        "    schedule data structure\n",
        "    \"\"\"\n",
        "    ## Time slots\n",
        "    # Time window unit (min)\n",
        "    T_unit = 5\n",
        "\n",
        "    # Tne visit type appointment window could include more than 1 window unit\n",
        "    # Appointment window length for different visit type\n",
        "    T_VT = [np.random.randint(1,4)*T_unit for i in range(VT)]\n",
        "\n",
        "    # Number of appointment windows: 8:00-16:00\n",
        "    N = [int(np.ceil((16-8)*60/ti)) for ti in T_VT]\n",
        "\n",
        "    ## Capacity of each deparment each visit type for each window units\n",
        "    # Capacity for each resource are the same in the same appointment window\n",
        "    max_capacity = 3\n",
        "    Cap_14d = {}\n",
        "    for i in range(VT):\n",
        "        if not Cap_14d.get(i):\n",
        "            Cap_14d[i] = {}\n",
        "        for j in M_map[i]:\n",
        "            Cap_14d[i][j] = np.random.randint(max_capacity+1,size=(14,N[i]))\n",
        "\n",
        "    return VT,DEP,VT_DEP,M_map,Job,Dis,Req,T_unit,T_VT,N,Cap_14d"
      ]
    },
    {
      "cell_type": "code",
      "execution_count": 5,
      "id": "199b196f",
      "metadata": {
        "id": "199b196f"
      },
      "outputs": [],
      "source": [
        "N_VT,N_DEP,VT_DEP,M_map,JOB_LEN,DIS,Req,T_unit,T_VT,N,Cap_14d = generate_settings_14d(123) # Set seed to 123 for reproduction to run a demo of the Scheduler with these settings"
      ]
    },
    {
      "cell_type": "code",
      "execution_count": 6,
      "id": "f835a79c",
      "metadata": {
        "id": "f835a79c",
        "outputId": "25368cb9-a9cd-49e4-f299-5b6d1ad88df6",
        "colab": {
          "base_uri": "https://localhost:8080/"
        }
      },
      "outputs": [
        {
          "output_type": "stream",
          "name": "stdout",
          "text": [
            "CPU times: user 241 µs, sys: 0 ns, total: 241 µs\n",
            "Wall time: 247 µs\n"
          ]
        }
      ],
      "source": [
        "# %% time is used to determine execute time of demo\n",
        "%%time\n",
        "ST_DEP = np.array([8 for vt in range(N_DEP)]) # Start time will be 8am\n",
        "ED_DEP = np.array([16 for vt in range(N_DEP)]) # End time will be 4pm\n",
        "scheduler = Scheduler(N_VT,N_DEP,VT_DEP,JOB_LEN,DIS,T_VT,ST_DEP,ED_DEP,Cap_14d) # Create an instance of the Scheduler with our demo settings"
      ]
    },
    {
      "cell_type": "code",
      "source": [
        "import warnings\n",
        "from pulp import pulp\n",
        "\n",
        "# Filter out UserWarnings from the pulp module (to avoid irrelevant naming convention warning)\n",
        "warnings.filterwarnings(\"ignore\", category=UserWarning, module=\"pulp\")"
      ],
      "metadata": {
        "id": "RWuDESERR-Qc"
      },
      "id": "RWuDESERR-Qc",
      "execution_count": null,
      "outputs": []
    },
    {
      "cell_type": "code",
      "execution_count": 7,
      "id": "e794cfde",
      "metadata": {
        "id": "e794cfde",
        "outputId": "24807e06-3734-4f3c-a00d-abca8e3a720d",
        "colab": {
          "base_uri": "https://localhost:8080/"
        }
      },
      "outputs": [
        {
          "output_type": "stream",
          "name": "stdout",
          "text": [
            "CPU times: user 88.9 ms, sys: 986 µs, total: 89.9 ms\n",
            "Wall time: 2.31 s\n"
          ]
        }
      ],
      "source": [
        "%%time\n",
        "scheduler._input(Req) # Provide the mock appointment requests to the scheduler instance.\n",
        "res = scheduler.solve() # Solve and store results in 'res'."
      ]
    },
    {
      "cell_type": "code",
      "execution_count": 8,
      "id": "19da97d5",
      "metadata": {
        "id": "19da97d5",
        "outputId": "a3551cd5-74e4-4081-9056-8e0e452a6547",
        "colab": {
          "base_uri": "https://localhost:8080/"
        }
      },
      "outputs": [
        {
          "output_type": "execute_result",
          "data": {
            "text/plain": [
              "1.0"
            ]
          },
          "metadata": {},
          "execution_count": 8
        }
      ],
      "source": [
        "res[0]['variables']['total_travel_t'].value() # Retrieve the total travel time from the first result in the res list"
      ]
    },
    {
      "cell_type": "code",
      "execution_count": 9,
      "id": "e4c3e42c",
      "metadata": {
        "id": "e4c3e42c",
        "colab": {
          "base_uri": "https://localhost:8080/"
        },
        "outputId": "de81abfd-59e0-411f-d0d7-9550cfe2dcc3"
      },
      "outputs": [
        {
          "output_type": "execute_result",
          "data": {
            "text/plain": [
              "7.0"
            ]
          },
          "metadata": {},
          "execution_count": 9
        }
      ],
      "source": [
        "res[0]['variables']['spread_t'].value() # Retrieve the total spread from the first result in the res list"
      ]
    },
    {
      "cell_type": "code",
      "execution_count": 10,
      "id": "af0ab066",
      "metadata": {
        "id": "af0ab066",
        "colab": {
          "base_uri": "https://localhost:8080/"
        },
        "outputId": "56cc720a-2f49-4cab-bb9d-029663af64b7"
      },
      "outputs": [
        {
          "output_type": "execute_result",
          "data": {
            "text/plain": [
              "-0.38000000000000006"
            ]
          },
          "metadata": {},
          "execution_count": 10
        }
      ],
      "source": [
        "res[0]['program'].objective.value() #  Retrieve the actual value of the objective function"
      ]
    },
    {
      "cell_type": "code",
      "execution_count": 11,
      "id": "2755f44a",
      "metadata": {
        "id": "2755f44a",
        "colab": {
          "base_uri": "https://localhost:8080/",
          "height": 69
        },
        "outputId": "0d621111-ec87-48a4-952e-ea997a8c93be"
      },
      "outputs": [
        {
          "output_type": "display_data",
          "data": {
            "text/plain": [
              "<Figure size 9600x300 with 2 Axes>"
            ],
            "image/png": "[encoded data removed]"
          },
          "metadata": {}
        }
      ],
      "source": [
        "scheduler.visualized_single_day_schedule(scheduler.single_day_Cap(0)) # Generate a heatmap visualization depicting distribution of scheduled appointments throughout the day for different departments where the x axis is time slots during the business day and the y axis is deparments."
      ]
    },
    {
      "cell_type": "code",
      "execution_count": 12,
      "id": "cfba7a9b",
      "metadata": {
        "id": "cfba7a9b",
        "colab": {
          "base_uri": "https://localhost:8080/",
          "height": 69
        },
        "outputId": "eaa4edc2-7bbf-4e78-b9c0-abced4dd5589"
      },
      "outputs": [
        {
          "output_type": "display_data",
          "data": {
            "text/plain": [
              "<Figure size 9600x300 with 2 Axes>"
            ],
            "image/png": "[encoded data removed]"
          },
          "metadata": {}
        }
      ],
      "source": [
        "scheduler.visualized_single_day_schedule(res[0]['schedule']) # Visualize the first solution stored in `res` (View the optimized schedule)"
      ]
    },
    {
      "cell_type": "code",
      "execution_count": 14,
      "id": "e738c657",
      "metadata": {
        "id": "e738c657",
        "colab": {
          "base_uri": "https://localhost:8080/"
        },
        "outputId": "06fcd420-43f3-496a-df2f-5f954c8cc4e8"
      },
      "outputs": [
        {
          "output_type": "stream",
          "name": "stdout",
          "text": [
            "CPU times: user 150 ms, sys: 5.29 ms, total: 156 ms\n",
            "Wall time: 4.7 s\n"
          ]
        }
      ],
      "source": [
        "%%time\n",
        "scheduler._input(Req,obj_pref='end_time') # Prioritize end time or lead time in the objective function\n",
        "res = scheduler.solve()\n",
        "# Restore warning filters\n",
        "# warnings.filterwarnings(\"default\", category=UserWarning, module=\"pulp\")"
      ]
    },
    {
      "cell_type": "code",
      "execution_count": 15,
      "id": "5634fcec",
      "metadata": {
        "id": "5634fcec",
        "colab": {
          "base_uri": "https://localhost:8080/"
        },
        "outputId": "1441482b-a811-4590-8df3-89b91e1c023f"
      },
      "outputs": [
        {
          "output_type": "execute_result",
          "data": {
            "text/plain": [
              "1.0"
            ]
          },
          "metadata": {},
          "execution_count": 15
        }
      ],
      "source": [
        "res[0]['variables']['total_travel_t'].value() # Get total travel time from the first solution"
      ]
    },
    {
      "cell_type": "code",
      "execution_count": 16,
      "id": "9015a921",
      "metadata": {
        "id": "9015a921",
        "colab": {
          "base_uri": "https://localhost:8080/"
        },
        "outputId": "e5644401-c887-4825-f0b2-7fa859b93c46"
      },
      "outputs": [
        {
          "output_type": "execute_result",
          "data": {
            "text/plain": [
              "12.0"
            ]
          },
          "metadata": {},
          "execution_count": 16
        }
      ],
      "source": [
        "res[0]['variables']['spread_t'].value() # Get total spread time from the first solution"
      ]
    },
    {
      "cell_type": "code",
      "execution_count": 17,
      "id": "c6833b3b",
      "metadata": {
        "id": "c6833b3b",
        "colab": {
          "base_uri": "https://localhost:8080/"
        },
        "outputId": "0dfd9ae5-a13e-4ce3-e5a5-72cf85b6de30"
      },
      "outputs": [
        {
          "output_type": "execute_result",
          "data": {
            "text/plain": [
              "-0.23000000000000004"
            ]
          },
          "metadata": {},
          "execution_count": 17
        }
      ],
      "source": [
        "res[0]['program'].objective.value() # Get the actual value of the objective function"
      ]
    },
    {
      "cell_type": "code",
      "execution_count": 18,
      "id": "efdf789d",
      "metadata": {
        "id": "efdf789d",
        "colab": {
          "base_uri": "https://localhost:8080/",
          "height": 69
        },
        "outputId": "6d5e3936-26a2-4956-f350-e7b4a322a518"
      },
      "outputs": [
        {
          "output_type": "display_data",
          "data": {
            "text/plain": [
              "<Figure size 9600x300 with 2 Axes>"
            ],
            "image/png": "[encoded data removed]"
          },
          "metadata": {}
        }
      ],
      "source": [
        "scheduler.visualized_single_day_schedule(res[0]['schedule']) # Visualize the first optimized schedule solution"
      ]
    },
    {
      "cell_type": "code",
      "execution_count": 19,
      "id": "9fd5066d",
      "metadata": {
        "id": "9fd5066d"
      },
      "outputs": [],
      "source": [
        "### Other inputs to be considered, which can be configured in a user interface:\n",
        "# Order constraint: some appointments may need to happen in a specific order. Ex: visit type 1 comes first\n",
        "order_pref = np.array([[-1,1,-1],\n",
        "              [0,-1,0],\n",
        "              [-1,1,-1]])\n",
        "\n",
        "# Same day constraint: some appointments may need to happen on the same day. Ex: visit type 0 and vist type 1 should always be scheduled on the same day\n",
        "same_date = np.array([[-1,1,-1],\n",
        "              [1,-1,-1],\n",
        "              [-1,-1,-1]])\n"
      ]
    },
    {
      "cell_type": "code",
      "execution_count": 20,
      "id": "1e7263ef",
      "metadata": {
        "scrolled": false,
        "id": "1e7263ef"
      },
      "outputs": [],
      "source": [
        "scheduler._input(Req,order_pref=order_pref,same_date=same_date) # Get solutions given the order and same day constraint\n",
        "res = scheduler.solve()"
      ]
    },
    {
      "cell_type": "code",
      "execution_count": 21,
      "id": "c1938929",
      "metadata": {
        "id": "c1938929",
        "colab": {
          "base_uri": "https://localhost:8080/",
          "height": 69
        },
        "outputId": "b4ff9438-4a23-44da-c687-940f8af6ac37"
      },
      "outputs": [
        {
          "output_type": "display_data",
          "data": {
            "text/plain": [
              "<Figure size 9600x300 with 2 Axes>"
            ],
            "image/png": "[encoded data removed]"
          },
          "metadata": {}
        }
      ],
      "source": [
        "scheduler.visualized_single_day_schedule(res[0]['schedule']) # Visualize the optimized schedule based on the first solution stored in res, where we've set made sure visit type 1 comes first and visit tupe 0 and 1 must happen on the same day"
      ]
    }
  ],
  "metadata": {
    "kernelspec": {
      "display_name": "Python 3 (ipykernel)",
      "language": "python",
      "name": "python3"
    },
    "language_info": {
      "codemirror_mode": {
        "name": "ipython",
        "version": 3
      },
      "file_extension": ".py",
      "mimetype": "text/x-python",
      "name": "python",
      "nbconvert_exporter": "python",
      "pygments_lexer": "ipython3",
      "version": "3.9.10"
    },
    "colab": {
      "provenance": []
    }
  },
  "nbformat": 4,
  "nbformat_minor": 5
}